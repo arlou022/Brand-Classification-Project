{
  "nbformat": 4,
  "nbformat_minor": 0,
  "metadata": {
    "colab": {
      "provenance": [],
      "authorship_tag": "ABX9TyMpNJNz9K3DsqOZQ9hJUNSR",
      "include_colab_link": true
    },
    "kernelspec": {
      "name": "python3",
      "display_name": "Python 3"
    },
    "language_info": {
      "name": "python"
    }
  },
  "cells": [
    {
      "cell_type": "markdown",
      "metadata": {
        "id": "view-in-github",
        "colab_type": "text"
      },
      "source": [
        "<a href=\"https://colab.research.google.com/github/arlou022/Brand-Classification-Project/blob/main/TF2_0_TL_with_Data_Augmentation_Adidas_or_Nike.ipynb\" target=\"_parent\"><img src=\"https://colab.research.google.com/assets/colab-badge.svg\" alt=\"Open In Colab\"/></a>"
      ]
    },
    {
      "cell_type": "markdown",
      "source": [
        "In this notebook we'll be implementing Transfer Learning towards building a model to be able to classify between Nike and Adidas shoes. The dataset can be found from: https://www.kaggle.com/datasets/ifeanyinneji/nike-adidas-shoes-for-image-classification-dataset .\n",
        "\n"
      ],
      "metadata": {
        "id": "DTl2lZCU4Gna"
      }
    },
    {
      "cell_type": "code",
      "execution_count": null,
      "metadata": {
        "colab": {
          "base_uri": "https://localhost:8080/",
          "height": 72
        },
        "id": "771n45e_Sp7H",
        "outputId": "5540c301-2db4-41fa-ce38-336e126964ab"
      },
      "outputs": [
        {
          "output_type": "display_data",
          "data": {
            "text/plain": [
              "<IPython.core.display.HTML object>"
            ],
            "text/html": [
              "\n",
              "     <input type=\"file\" id=\"files-7ffe637a-0f59-46e1-b69a-ef475bf22056\" name=\"files[]\" multiple disabled\n",
              "        style=\"border:none\" />\n",
              "     <output id=\"result-7ffe637a-0f59-46e1-b69a-ef475bf22056\">\n",
              "      Upload widget is only available when the cell has been executed in the\n",
              "      current browser session. Please rerun this cell to enable.\n",
              "      </output>\n",
              "      <script>// Copyright 2017 Google LLC\n",
              "//\n",
              "// Licensed under the Apache License, Version 2.0 (the \"License\");\n",
              "// you may not use this file except in compliance with the License.\n",
              "// You may obtain a copy of the License at\n",
              "//\n",
              "//      http://www.apache.org/licenses/LICENSE-2.0\n",
              "//\n",
              "// Unless required by applicable law or agreed to in writing, software\n",
              "// distributed under the License is distributed on an \"AS IS\" BASIS,\n",
              "// WITHOUT WARRANTIES OR CONDITIONS OF ANY KIND, either express or implied.\n",
              "// See the License for the specific language governing permissions and\n",
              "// limitations under the License.\n",
              "\n",
              "/**\n",
              " * @fileoverview Helpers for google.colab Python module.\n",
              " */\n",
              "(function(scope) {\n",
              "function span(text, styleAttributes = {}) {\n",
              "  const element = document.createElement('span');\n",
              "  element.textContent = text;\n",
              "  for (const key of Object.keys(styleAttributes)) {\n",
              "    element.style[key] = styleAttributes[key];\n",
              "  }\n",
              "  return element;\n",
              "}\n",
              "\n",
              "// Max number of bytes which will be uploaded at a time.\n",
              "const MAX_PAYLOAD_SIZE = 100 * 1024;\n",
              "\n",
              "function _uploadFiles(inputId, outputId) {\n",
              "  const steps = uploadFilesStep(inputId, outputId);\n",
              "  const outputElement = document.getElementById(outputId);\n",
              "  // Cache steps on the outputElement to make it available for the next call\n",
              "  // to uploadFilesContinue from Python.\n",
              "  outputElement.steps = steps;\n",
              "\n",
              "  return _uploadFilesContinue(outputId);\n",
              "}\n",
              "\n",
              "// This is roughly an async generator (not supported in the browser yet),\n",
              "// where there are multiple asynchronous steps and the Python side is going\n",
              "// to poll for completion of each step.\n",
              "// This uses a Promise to block the python side on completion of each step,\n",
              "// then passes the result of the previous step as the input to the next step.\n",
              "function _uploadFilesContinue(outputId) {\n",
              "  const outputElement = document.getElementById(outputId);\n",
              "  const steps = outputElement.steps;\n",
              "\n",
              "  const next = steps.next(outputElement.lastPromiseValue);\n",
              "  return Promise.resolve(next.value.promise).then((value) => {\n",
              "    // Cache the last promise value to make it available to the next\n",
              "    // step of the generator.\n",
              "    outputElement.lastPromiseValue = value;\n",
              "    return next.value.response;\n",
              "  });\n",
              "}\n",
              "\n",
              "/**\n",
              " * Generator function which is called between each async step of the upload\n",
              " * process.\n",
              " * @param {string} inputId Element ID of the input file picker element.\n",
              " * @param {string} outputId Element ID of the output display.\n",
              " * @return {!Iterable<!Object>} Iterable of next steps.\n",
              " */\n",
              "function* uploadFilesStep(inputId, outputId) {\n",
              "  const inputElement = document.getElementById(inputId);\n",
              "  inputElement.disabled = false;\n",
              "\n",
              "  const outputElement = document.getElementById(outputId);\n",
              "  outputElement.innerHTML = '';\n",
              "\n",
              "  const pickedPromise = new Promise((resolve) => {\n",
              "    inputElement.addEventListener('change', (e) => {\n",
              "      resolve(e.target.files);\n",
              "    });\n",
              "  });\n",
              "\n",
              "  const cancel = document.createElement('button');\n",
              "  inputElement.parentElement.appendChild(cancel);\n",
              "  cancel.textContent = 'Cancel upload';\n",
              "  const cancelPromise = new Promise((resolve) => {\n",
              "    cancel.onclick = () => {\n",
              "      resolve(null);\n",
              "    };\n",
              "  });\n",
              "\n",
              "  // Wait for the user to pick the files.\n",
              "  const files = yield {\n",
              "    promise: Promise.race([pickedPromise, cancelPromise]),\n",
              "    response: {\n",
              "      action: 'starting',\n",
              "    }\n",
              "  };\n",
              "\n",
              "  cancel.remove();\n",
              "\n",
              "  // Disable the input element since further picks are not allowed.\n",
              "  inputElement.disabled = true;\n",
              "\n",
              "  if (!files) {\n",
              "    return {\n",
              "      response: {\n",
              "        action: 'complete',\n",
              "      }\n",
              "    };\n",
              "  }\n",
              "\n",
              "  for (const file of files) {\n",
              "    const li = document.createElement('li');\n",
              "    li.append(span(file.name, {fontWeight: 'bold'}));\n",
              "    li.append(span(\n",
              "        `(${file.type || 'n/a'}) - ${file.size} bytes, ` +\n",
              "        `last modified: ${\n",
              "            file.lastModifiedDate ? file.lastModifiedDate.toLocaleDateString() :\n",
              "                                    'n/a'} - `));\n",
              "    const percent = span('0% done');\n",
              "    li.appendChild(percent);\n",
              "\n",
              "    outputElement.appendChild(li);\n",
              "\n",
              "    const fileDataPromise = new Promise((resolve) => {\n",
              "      const reader = new FileReader();\n",
              "      reader.onload = (e) => {\n",
              "        resolve(e.target.result);\n",
              "      };\n",
              "      reader.readAsArrayBuffer(file);\n",
              "    });\n",
              "    // Wait for the data to be ready.\n",
              "    let fileData = yield {\n",
              "      promise: fileDataPromise,\n",
              "      response: {\n",
              "        action: 'continue',\n",
              "      }\n",
              "    };\n",
              "\n",
              "    // Use a chunked sending to avoid message size limits. See b/62115660.\n",
              "    let position = 0;\n",
              "    do {\n",
              "      const length = Math.min(fileData.byteLength - position, MAX_PAYLOAD_SIZE);\n",
              "      const chunk = new Uint8Array(fileData, position, length);\n",
              "      position += length;\n",
              "\n",
              "      const base64 = btoa(String.fromCharCode.apply(null, chunk));\n",
              "      yield {\n",
              "        response: {\n",
              "          action: 'append',\n",
              "          file: file.name,\n",
              "          data: base64,\n",
              "        },\n",
              "      };\n",
              "\n",
              "      let percentDone = fileData.byteLength === 0 ?\n",
              "          100 :\n",
              "          Math.round((position / fileData.byteLength) * 100);\n",
              "      percent.textContent = `${percentDone}% done`;\n",
              "\n",
              "    } while (position < fileData.byteLength);\n",
              "  }\n",
              "\n",
              "  // All done.\n",
              "  yield {\n",
              "    response: {\n",
              "      action: 'complete',\n",
              "    }\n",
              "  };\n",
              "}\n",
              "\n",
              "scope.google = scope.google || {};\n",
              "scope.google.colab = scope.google.colab || {};\n",
              "scope.google.colab._files = {\n",
              "  _uploadFiles,\n",
              "  _uploadFilesContinue,\n",
              "};\n",
              "})(self);\n",
              "</script> "
            ]
          },
          "metadata": {}
        },
        {
          "output_type": "stream",
          "name": "stdout",
          "text": [
            "Saving archive.zip to archive.zip\n"
          ]
        }
      ],
      "source": [
        "# Upload dataset\n",
        "\n",
        "from google.colab import files\n",
        "uploaded = files.upload()"
      ]
    },
    {
      "cell_type": "code",
      "source": [
        "!unzip archive.zip"
      ],
      "metadata": {
        "id": "3FItne_ebOZu",
        "colab": {
          "base_uri": "https://localhost:8080/"
        },
        "outputId": "00ea3318-d6e5-4f47-cb86-752f04dbf572"
      },
      "execution_count": null,
      "outputs": [
        {
          "output_type": "stream",
          "name": "stdout",
          "text": [
            "Archive:  archive.zip\n",
            "  inflating: labelnames.csv          \n",
            "  inflating: test/adidas/Adidas (18).jpg  \n",
            "  inflating: test/adidas/Adidas (19).jpg  \n",
            "  inflating: test/adidas/Adidas (20).jpg  \n",
            "  inflating: test/adidas/Adidas (21).JPG  \n",
            "  inflating: test/adidas/Adidas (22).jpg  \n",
            "  inflating: test/adidas/Adidas (23).jpg  \n",
            "  inflating: test/adidas/Adidas (24).jpg  \n",
            "  inflating: test/adidas/Adidas (25).jpg  \n",
            "  inflating: test/adidas/Adidas (26).jpg  \n",
            "  inflating: test/adidas/Adidas (27).jpg  \n",
            "  inflating: test/adidas/aadidas_ (10).jpg  \n",
            "  inflating: test/adidas/aadidas_ (11).jpg  \n",
            "  inflating: test/adidas/aadidas_ (12).jpg  \n",
            "  inflating: test/adidas/aadidas_ (13).jpg  \n",
            "  inflating: test/adidas/aadidas_ (14).jpg  \n",
            "  inflating: test/adidas/aadidas_ (15).jpg  \n",
            "  inflating: test/adidas/aadidas_ (16).jpg  \n",
            "  inflating: test/adidas/aadidas_ (17).jpg  \n",
            "  inflating: test/adidas/aadidas_ (18).jpg  \n",
            "  inflating: test/adidas/aadidas_ (19).jpg  \n",
            "  inflating: test/adidas/aadidas_ (2).jpg  \n",
            "  inflating: test/adidas/aadidas_ (20).jpg  \n",
            "  inflating: test/adidas/aadidas_ (21).jpg  \n",
            "  inflating: test/adidas/aadidas_ (3).jpg  \n",
            "  inflating: test/adidas/aadidas_ (4).jpg  \n",
            "  inflating: test/adidas/aadidas_ (5).jpg  \n",
            "  inflating: test/adidas/aadidas_ (6).jpg  \n",
            "  inflating: test/adidas/aadidas_ (7).jpg  \n",
            "  inflating: test/adidas/aadidas_ (8).jpg  \n",
            "  inflating: test/adidas/aadidas_ (9).jpg  \n",
            "  inflating: test/nike/Image_10.jpg  \n",
            "  inflating: test/nike/Image_100.jpg  \n",
            "  inflating: test/nike/Image_110.jpg  \n",
            "  inflating: test/nike/Image_120.jpg  \n",
            "  inflating: test/nike/Image_130.jpg  \n",
            "  inflating: test/nike/Image_140.jpg  \n",
            "  inflating: test/nike/Image_150.jpg  \n",
            "  inflating: test/nike/Image_160.jpg  \n",
            "  inflating: test/nike/Image_170.jpg  \n",
            "  inflating: test/nike/Image_180.jpg  \n",
            "  inflating: test/nike/Image_190.jpg  \n",
            "  inflating: test/nike/Image_20.jpg  \n",
            "  inflating: test/nike/Image_200.jpg  \n",
            "  inflating: test/nike/Image_210.jpg  \n",
            "  inflating: test/nike/Image_220.jpg  \n",
            "  inflating: test/nike/Image_230.jpg  \n",
            "  inflating: test/nike/Image_240.jpg  \n",
            "  inflating: test/nike/Image_250.jpg  \n",
            "  inflating: test/nike/Image_256.jpg  \n",
            "  inflating: test/nike/Image_257.jpg  \n",
            "  inflating: test/nike/Image_258.jpg  \n",
            "  inflating: test/nike/Image_259.jpg  \n",
            "  inflating: test/nike/Image_260.jpg  \n",
            "  inflating: test/nike/Image_30.jpg  \n",
            "  inflating: test/nike/Image_40.jpg  \n",
            "  inflating: test/nike/Image_50.jpg  \n",
            "  inflating: test/nike/Image_60.jpg  \n",
            "  inflating: test/nike/Image_70.jpg  \n",
            "  inflating: test/nike/Image_80.jpg  \n",
            "  inflating: test/nike/Image_90.jpg  \n",
            "  inflating: train/adidas/Adidas (1).jpg  \n",
            "  inflating: train/adidas/Adidas (10).jpg  \n",
            "  inflating: train/adidas/Adidas (11).jpg  \n",
            "  inflating: train/adidas/Adidas (12).jpg  \n",
            "  inflating: train/adidas/Adidas (13).jpg  \n",
            "  inflating: train/adidas/Adidas (14).jpg  \n",
            "  inflating: train/adidas/Adidas (15).jpg  \n",
            "  inflating: train/adidas/Adidas (16).jpg  \n",
            "  inflating: train/adidas/Adidas (17).jpg  \n",
            "  inflating: train/adidas/Adidas (2).jpg  \n",
            "  inflating: train/adidas/Adidas (28).jpg  \n",
            "  inflating: train/adidas/Adidas (29).jpg  \n",
            "  inflating: train/adidas/Adidas (3).jpg  \n",
            "  inflating: train/adidas/Adidas (30).jpg  \n",
            "  inflating: train/adidas/Adidas (31).jpg  \n",
            "  inflating: train/adidas/Adidas (32).jpg  \n",
            "  inflating: train/adidas/Adidas (33).jpg  \n",
            "  inflating: train/adidas/Adidas (34).jpg  \n",
            "  inflating: train/adidas/Adidas (35).jpg  \n",
            "  inflating: train/adidas/Adidas (36).jpg  \n",
            "  inflating: train/adidas/Adidas (37).jpg  \n",
            "  inflating: train/adidas/Adidas (38).jpg  \n",
            "  inflating: train/adidas/Adidas (39).jpg  \n",
            "  inflating: train/adidas/Adidas (4).jpg  \n",
            "  inflating: train/adidas/Adidas (40).jpg  \n",
            "  inflating: train/adidas/Adidas (41).jpg  \n",
            "  inflating: train/adidas/Adidas (42).jpg  \n",
            "  inflating: train/adidas/Adidas (43).jpg  \n",
            "  inflating: train/adidas/Adidas (44).jpg  \n",
            "  inflating: train/adidas/Adidas (45).jpg  \n",
            "  inflating: train/adidas/Adidas (46).jpg  \n",
            "  inflating: train/adidas/Adidas (47).jpg  \n",
            "  inflating: train/adidas/Adidas (48).jpg  \n",
            "  inflating: train/adidas/Adidas (49).jpg  \n",
            "  inflating: train/adidas/Adidas (5).jpg  \n",
            "  inflating: train/adidas/Adidas (50).jpg  \n",
            "  inflating: train/adidas/Adidas (51).jpg  \n",
            "  inflating: train/adidas/Adidas (52).jpg  \n",
            "  inflating: train/adidas/Adidas (53).jpg  \n",
            "  inflating: train/adidas/Adidas (54).JPG  \n",
            "  inflating: train/adidas/Adidas (55).jpg  \n",
            "  inflating: train/adidas/Adidas (56).jpg  \n",
            "  inflating: train/adidas/Adidas (57).jpg  \n",
            "  inflating: train/adidas/Adidas (58).jpg  \n",
            "  inflating: train/adidas/Adidas (59).jpg  \n",
            "  inflating: train/adidas/Adidas (6).jpg  \n",
            "  inflating: train/adidas/Adidas (60).jpg  \n",
            "  inflating: train/adidas/Adidas (61).jpg  \n",
            "  inflating: train/adidas/Adidas (62).jpg  \n",
            "  inflating: train/adidas/Adidas (63).jpg  \n",
            "  inflating: train/adidas/Adidas (64).jpg  \n",
            "  inflating: train/adidas/Adidas (65).JPG  \n",
            "  inflating: train/adidas/Adidas (66).jpg  \n",
            "  inflating: train/adidas/Adidas (67).jpg  \n",
            "  inflating: train/adidas/Adidas (68).JPG  \n",
            "  inflating: train/adidas/Adidas (69).jpg  \n",
            "  inflating: train/adidas/Adidas (7).jpg  \n",
            "  inflating: train/adidas/Adidas (70).jpg  \n",
            "  inflating: train/adidas/Adidas (71).jpg  \n",
            "  inflating: train/adidas/Adidas (72).jpg  \n",
            "  inflating: train/adidas/Adidas (73).jpg  \n",
            "  inflating: train/adidas/Adidas (74).jpg  \n",
            "  inflating: train/adidas/Adidas (75).JPG  \n",
            "  inflating: train/adidas/Adidas (76).jpg  \n",
            "  inflating: train/adidas/Adidas (77).jpg  \n",
            "  inflating: train/adidas/Adidas (78).jpg  \n",
            "  inflating: train/adidas/Adidas (79).jpg  \n",
            "  inflating: train/adidas/Adidas (8).jpg  \n",
            "  inflating: train/adidas/Adidas (80).jpg  \n",
            "  inflating: train/adidas/Adidas (81).jpg  \n",
            "  inflating: train/adidas/Adidas (82).jpg  \n",
            "  inflating: train/adidas/Adidas (83).jpg  \n",
            "  inflating: train/adidas/Adidas (84).jpg  \n",
            "  inflating: train/adidas/Adidas (85).jpg  \n",
            "  inflating: train/adidas/Adidas (86).jpg  \n",
            "  inflating: train/adidas/Adidas (87).jpg  \n",
            "  inflating: train/adidas/Adidas (88).jpg  \n",
            "  inflating: train/adidas/Adidas (89).jpg  \n",
            "  inflating: train/adidas/Adidas (9).jpg  \n",
            "  inflating: train/adidas/aadidas_ (22).jpg  \n",
            "  inflating: train/adidas/aadidas_ (23).jpg  \n",
            "  inflating: train/adidas/aadidas_ (24).jpg  \n",
            "  inflating: train/adidas/adidas_ (1).jpg  \n",
            "  inflating: train/adidas/adidas_ (10).jpg  \n",
            "  inflating: train/adidas/adidas_ (100).jpg  \n",
            "  inflating: train/adidas/adidas_ (101).jpg  \n",
            "  inflating: train/adidas/adidas_ (102).jpg  \n",
            "  inflating: train/adidas/adidas_ (103).jpg  \n",
            "  inflating: train/adidas/adidas_ (104).jpg  \n",
            "  inflating: train/adidas/adidas_ (105).jpg  \n",
            "  inflating: train/adidas/adidas_ (106).jpg  \n",
            "  inflating: train/adidas/adidas_ (107).jpg  \n",
            "  inflating: train/adidas/adidas_ (108).jpg  \n",
            "  inflating: train/adidas/adidas_ (109).jpg  \n",
            "  inflating: train/adidas/adidas_ (11).jpg  \n",
            "  inflating: train/adidas/adidas_ (110).jpg  \n",
            "  inflating: train/adidas/adidas_ (111).jpg  \n",
            "  inflating: train/adidas/adidas_ (112).jpg  \n",
            "  inflating: train/adidas/adidas_ (113).jpg  \n",
            "  inflating: train/adidas/adidas_ (114).jpg  \n",
            "  inflating: train/adidas/adidas_ (115).jpg  \n",
            "  inflating: train/adidas/adidas_ (116).jpg  \n",
            "  inflating: train/adidas/adidas_ (117).jpg  \n",
            "  inflating: train/adidas/adidas_ (118).jpg  \n",
            "  inflating: train/adidas/adidas_ (119).jpg  \n",
            "  inflating: train/adidas/adidas_ (12).jpg  \n",
            "  inflating: train/adidas/adidas_ (120).jpg  \n",
            "  inflating: train/adidas/adidas_ (121).jpg  \n",
            "  inflating: train/adidas/adidas_ (122).jpg  \n",
            "  inflating: train/adidas/adidas_ (123).jpg  \n",
            "  inflating: train/adidas/adidas_ (124).jpg  \n",
            "  inflating: train/adidas/adidas_ (125).jpg  \n",
            "  inflating: train/adidas/adidas_ (126).jpg  \n",
            "  inflating: train/adidas/adidas_ (127).jpg  \n",
            "  inflating: train/adidas/adidas_ (128).jpg  \n",
            "  inflating: train/adidas/adidas_ (129).jpg  \n",
            "  inflating: train/adidas/adidas_ (13).jpg  \n",
            "  inflating: train/adidas/adidas_ (130).jpg  \n",
            "  inflating: train/adidas/adidas_ (131).jpg  \n",
            "  inflating: train/adidas/adidas_ (132).jpg  \n",
            "  inflating: train/adidas/adidas_ (133).jpg  \n",
            "  inflating: train/adidas/adidas_ (134).jpg  \n",
            "  inflating: train/adidas/adidas_ (135).jpg  \n",
            "  inflating: train/adidas/adidas_ (136).jpg  \n",
            "  inflating: train/adidas/adidas_ (137).jpg  \n",
            "  inflating: train/adidas/adidas_ (138).jpg  \n",
            "  inflating: train/adidas/adidas_ (139).jpg  \n",
            "  inflating: train/adidas/adidas_ (14).jpg  \n",
            "  inflating: train/adidas/adidas_ (140).jpg  \n",
            "  inflating: train/adidas/adidas_ (141).jpg  \n",
            "  inflating: train/adidas/adidas_ (142).jpg  \n",
            "  inflating: train/adidas/adidas_ (143).jpg  \n",
            "  inflating: train/adidas/adidas_ (144).jpg  \n",
            "  inflating: train/adidas/adidas_ (145).jpg  \n",
            "  inflating: train/adidas/adidas_ (146).jpg  \n",
            "  inflating: train/adidas/adidas_ (147).jpg  \n",
            "  inflating: train/adidas/adidas_ (148).jpg  \n",
            "  inflating: train/adidas/adidas_ (15).jpg  \n",
            "  inflating: train/adidas/adidas_ (16).jpg  \n",
            "  inflating: train/adidas/adidas_ (17).jpg  \n",
            "  inflating: train/adidas/adidas_ (18).jpg  \n",
            "  inflating: train/adidas/adidas_ (19).jpg  \n",
            "  inflating: train/adidas/adidas_ (2).jpg  \n",
            "  inflating: train/adidas/adidas_ (20).jpg  \n",
            "  inflating: train/adidas/adidas_ (21).jpg  \n",
            "  inflating: train/adidas/adidas_ (22).jpg  \n",
            "  inflating: train/adidas/adidas_ (23).jpg  \n",
            "  inflating: train/adidas/adidas_ (24).jpg  \n",
            "  inflating: train/adidas/adidas_ (25).jpg  \n",
            "  inflating: train/adidas/adidas_ (26).jpg  \n",
            "  inflating: train/adidas/adidas_ (27).jpg  \n",
            "  inflating: train/adidas/adidas_ (28).jpg  \n",
            "  inflating: train/adidas/adidas_ (29).jpg  \n",
            "  inflating: train/adidas/adidas_ (3).jpg  \n",
            "  inflating: train/adidas/adidas_ (30).jpg  \n",
            "  inflating: train/adidas/adidas_ (31).jpg  \n",
            "  inflating: train/adidas/adidas_ (32).jpg  \n",
            "  inflating: train/adidas/adidas_ (33).jpg  \n",
            "  inflating: train/adidas/adidas_ (34).jpg  \n",
            "  inflating: train/adidas/adidas_ (35).jpg  \n",
            "  inflating: train/adidas/adidas_ (36).jpg  \n",
            "  inflating: train/adidas/adidas_ (37).jpg  \n",
            "  inflating: train/adidas/adidas_ (38).jpg  \n",
            "  inflating: train/adidas/adidas_ (39).jpg  \n",
            "  inflating: train/adidas/adidas_ (4).jpg  \n",
            "  inflating: train/adidas/adidas_ (40).jpg  \n",
            "  inflating: train/adidas/adidas_ (41).jpg  \n",
            "  inflating: train/adidas/adidas_ (42).jpg  \n",
            "  inflating: train/adidas/adidas_ (43).jpg  \n",
            "  inflating: train/adidas/adidas_ (44).jpg  \n",
            "  inflating: train/adidas/adidas_ (45).jpg  \n",
            "  inflating: train/adidas/adidas_ (46).jpg  \n",
            "  inflating: train/adidas/adidas_ (47).jpg  \n",
            "  inflating: train/adidas/adidas_ (48).jpg  \n",
            "  inflating: train/adidas/adidas_ (49).jpg  \n",
            "  inflating: train/adidas/adidas_ (5).jpg  \n",
            "  inflating: train/adidas/adidas_ (50).jpg  \n",
            "  inflating: train/adidas/adidas_ (51).jpg  \n",
            "  inflating: train/adidas/adidas_ (52).jpg  \n",
            "  inflating: train/adidas/adidas_ (53).jpg  \n",
            "  inflating: train/adidas/adidas_ (54).jpg  \n",
            "  inflating: train/adidas/adidas_ (55).jpg  \n",
            "  inflating: train/adidas/adidas_ (56).jpg  \n",
            "  inflating: train/adidas/adidas_ (57).jpg  \n",
            "  inflating: train/adidas/adidas_ (58).jpg  \n",
            "  inflating: train/adidas/adidas_ (59).jpg  \n",
            "  inflating: train/adidas/adidas_ (6).jpg  \n",
            "  inflating: train/adidas/adidas_ (60).jpg  \n",
            "  inflating: train/adidas/adidas_ (61).jpg  \n",
            "  inflating: train/adidas/adidas_ (62).jpg  \n",
            "  inflating: train/adidas/adidas_ (63).jpg  \n",
            "  inflating: train/adidas/adidas_ (64).jpg  \n",
            "  inflating: train/adidas/adidas_ (65).jpg  \n",
            "  inflating: train/adidas/adidas_ (66).jpg  \n",
            "  inflating: train/adidas/adidas_ (67).jpg  \n",
            "  inflating: train/adidas/adidas_ (68).jpg  \n",
            "  inflating: train/adidas/adidas_ (69).jpg  \n",
            "  inflating: train/adidas/adidas_ (7).jpg  \n",
            "  inflating: train/adidas/adidas_ (70).jpg  \n",
            "  inflating: train/adidas/adidas_ (71).jpg  \n",
            "  inflating: train/adidas/adidas_ (72).jpg  \n",
            "  inflating: train/adidas/adidas_ (73).jpg  \n",
            "  inflating: train/adidas/adidas_ (74).jpg  \n",
            "  inflating: train/adidas/adidas_ (75).jpg  \n",
            "  inflating: train/adidas/adidas_ (76).jpg  \n",
            "  inflating: train/adidas/adidas_ (77).jpg  \n",
            "  inflating: train/adidas/adidas_ (78).jpg  \n",
            "  inflating: train/adidas/adidas_ (79).jpg  \n",
            "  inflating: train/adidas/adidas_ (8).jpg  \n",
            "  inflating: train/adidas/adidas_ (80).jpg  \n",
            "  inflating: train/adidas/adidas_ (81).jpg  \n",
            "  inflating: train/adidas/adidas_ (82).jpg  \n",
            "  inflating: train/adidas/adidas_ (83).jpg  \n",
            "  inflating: train/adidas/adidas_ (84).jpg  \n",
            "  inflating: train/adidas/adidas_ (85).jpg  \n",
            "  inflating: train/adidas/adidas_ (86).jpg  \n",
            "  inflating: train/adidas/adidas_ (87).jpg  \n",
            "  inflating: train/adidas/adidas_ (88).jpg  \n",
            "  inflating: train/adidas/adidas_ (89).jpg  \n",
            "  inflating: train/adidas/adidas_ (9).jpg  \n",
            "  inflating: train/adidas/adidas_ (90).jpg  \n",
            "  inflating: train/adidas/adidas_ (91).jpg  \n",
            "  inflating: train/adidas/adidas_ (92).jpg  \n",
            "  inflating: train/adidas/adidas_ (93).jpg  \n",
            "  inflating: train/adidas/adidas_ (94).jpg  \n",
            "  inflating: train/adidas/adidas_ (95).jpg  \n",
            "  inflating: train/adidas/adidas_ (96).jpg  \n",
            "  inflating: train/adidas/adidas_ (97).jpg  \n",
            "  inflating: train/adidas/adidas_ (98).jpg  \n",
            "  inflating: train/adidas/adidas_ (99).jpg  \n",
            "  inflating: train/nike/Image_1.jpg  \n",
            "  inflating: train/nike/Image_101.jpg  \n",
            "  inflating: train/nike/Image_102.jpg  \n",
            "  inflating: train/nike/Image_103.jpg  \n",
            "  inflating: train/nike/Image_104.JPG  \n",
            "  inflating: train/nike/Image_105.jpg  \n",
            "  inflating: train/nike/Image_106.jpg  \n",
            "  inflating: train/nike/Image_107.jpg  \n",
            "  inflating: train/nike/Image_108.jpg  \n",
            "  inflating: train/nike/Image_109.jpg  \n",
            "  inflating: train/nike/Image_11.jpg  \n",
            "  inflating: train/nike/Image_111.jpg  \n",
            "  inflating: train/nike/Image_112.jpg  \n",
            "  inflating: train/nike/Image_113.jpg  \n",
            "  inflating: train/nike/Image_114.jpg  \n",
            "  inflating: train/nike/Image_115.jpg  \n",
            "  inflating: train/nike/Image_116.jpg  \n",
            "  inflating: train/nike/Image_117.jpg  \n",
            "  inflating: train/nike/Image_118.jpg  \n",
            "  inflating: train/nike/Image_119.jpg  \n",
            "  inflating: train/nike/Image_12.JPG  \n",
            "  inflating: train/nike/Image_121.jpg  \n",
            "  inflating: train/nike/Image_122.jpg  \n",
            "  inflating: train/nike/Image_123.jpg  \n",
            "  inflating: train/nike/Image_124.jpg  \n",
            "  inflating: train/nike/Image_125.jpg  \n",
            "  inflating: train/nike/Image_126.jpg  \n",
            "  inflating: train/nike/Image_127.JPG  \n",
            "  inflating: train/nike/Image_128.jpg  \n",
            "  inflating: train/nike/Image_129.jpg  \n",
            "  inflating: train/nike/Image_13.JPG  \n",
            "  inflating: train/nike/Image_131.jpg  \n",
            "  inflating: train/nike/Image_132.jpg  \n",
            "  inflating: train/nike/Image_133.jpg  \n",
            "  inflating: train/nike/Image_134.jpg  \n",
            "  inflating: train/nike/Image_135.jpg  \n",
            "  inflating: train/nike/Image_136.jpg  \n",
            "  inflating: train/nike/Image_137.jpg  \n",
            "  inflating: train/nike/Image_138.jpg  \n",
            "  inflating: train/nike/Image_139.jpg  \n",
            "  inflating: train/nike/Image_14.jpg  \n",
            "  inflating: train/nike/Image_141.jpg  \n",
            "  inflating: train/nike/Image_142.jpg  \n",
            "  inflating: train/nike/Image_143.jpg  \n",
            "  inflating: train/nike/Image_144.jpg  \n",
            "  inflating: train/nike/Image_145.jpg  \n",
            "  inflating: train/nike/Image_146.jpg  \n",
            "  inflating: train/nike/Image_147.jpg  \n",
            "  inflating: train/nike/Image_148.jpg  \n",
            "  inflating: train/nike/Image_149.jpg  \n",
            "  inflating: train/nike/Image_15.jpg  \n",
            "  inflating: train/nike/Image_151.jpg  \n",
            "  inflating: train/nike/Image_152.jpg  \n",
            "  inflating: train/nike/Image_153.jpg  \n",
            "  inflating: train/nike/Image_154.jpg  \n",
            "  inflating: train/nike/Image_155.jpg  \n",
            "  inflating: train/nike/Image_156.jpg  \n",
            "  inflating: train/nike/Image_157.jpg  \n",
            "  inflating: train/nike/Image_158.jpg  \n",
            "  inflating: train/nike/Image_159.jpg  \n",
            "  inflating: train/nike/Image_16.JPG  \n",
            "  inflating: train/nike/Image_161.jpg  \n",
            "  inflating: train/nike/Image_162.jpg  \n",
            "  inflating: train/nike/Image_163.jpg  \n",
            "  inflating: train/nike/Image_164.jpg  \n",
            "  inflating: train/nike/Image_165.jpg  \n",
            "  inflating: train/nike/Image_166.jpg  \n",
            "  inflating: train/nike/Image_167.jpg  \n",
            "  inflating: train/nike/Image_168.jpg  \n",
            "  inflating: train/nike/Image_169.jpg  \n",
            "  inflating: train/nike/Image_17.jpg  \n",
            "  inflating: train/nike/Image_171.jpg  \n",
            "  inflating: train/nike/Image_172.jpg  \n",
            "  inflating: train/nike/Image_173.jpg  \n",
            "  inflating: train/nike/Image_174.jpg  \n",
            "  inflating: train/nike/Image_175.jpg  \n",
            "  inflating: train/nike/Image_176.jpg  \n",
            "  inflating: train/nike/Image_177.jpg  \n",
            "  inflating: train/nike/Image_178.jpg  \n",
            "  inflating: train/nike/Image_179.jpg  \n",
            "  inflating: train/nike/Image_18.jpg  \n",
            "  inflating: train/nike/Image_181.jpg  \n",
            "  inflating: train/nike/Image_182.jpg  \n",
            "  inflating: train/nike/Image_183.jpg  \n",
            "  inflating: train/nike/Image_184.jpg  \n",
            "  inflating: train/nike/Image_185.jpg  \n",
            "  inflating: train/nike/Image_186.jpg  \n",
            "  inflating: train/nike/Image_187.jpg  \n",
            "  inflating: train/nike/Image_188.jpg  \n",
            "  inflating: train/nike/Image_189.jpg  \n",
            "  inflating: train/nike/Image_19.jpg  \n",
            "  inflating: train/nike/Image_191.jpg  \n",
            "  inflating: train/nike/Image_192.jpg  \n",
            "  inflating: train/nike/Image_193.JPG  \n",
            "  inflating: train/nike/Image_194.jpg  \n",
            "  inflating: train/nike/Image_195.jpg  \n",
            "  inflating: train/nike/Image_196.jpg  \n",
            "  inflating: train/nike/Image_197.jpg  \n",
            "  inflating: train/nike/Image_198.jpg  \n",
            "  inflating: train/nike/Image_199.jpg  \n",
            "  inflating: train/nike/Image_2.JPG  \n",
            "  inflating: train/nike/Image_201.jpg  \n",
            "  inflating: train/nike/Image_202.jpg  \n",
            "  inflating: train/nike/Image_203.jpg  \n",
            "  inflating: train/nike/Image_204.jpg  \n",
            "  inflating: train/nike/Image_205.jpg  \n",
            "  inflating: train/nike/Image_206.jpg  \n",
            "  inflating: train/nike/Image_207.jpg  \n",
            "  inflating: train/nike/Image_208.jpg  \n",
            "  inflating: train/nike/Image_209.jpg  \n",
            "  inflating: train/nike/Image_21.jpg  \n",
            "  inflating: train/nike/Image_211.jpg  \n",
            "  inflating: train/nike/Image_212.jpg  \n",
            "  inflating: train/nike/Image_213.jpg  \n",
            "  inflating: train/nike/Image_214.jpg  \n",
            "  inflating: train/nike/Image_215.jpg  \n",
            "  inflating: train/nike/Image_216.jpg  \n",
            "  inflating: train/nike/Image_217.jpg  \n",
            "  inflating: train/nike/Image_218.jpg  \n",
            "  inflating: train/nike/Image_219.jpg  \n",
            "  inflating: train/nike/Image_22.jpg  \n",
            "  inflating: train/nike/Image_221.jpg  \n",
            "  inflating: train/nike/Image_222.jpg  \n",
            "  inflating: train/nike/Image_223.jpg  \n",
            "  inflating: train/nike/Image_224.jpg  \n",
            "  inflating: train/nike/Image_225.jpg  \n",
            "  inflating: train/nike/Image_226.jpg  \n",
            "  inflating: train/nike/Image_227.jpg  \n",
            "  inflating: train/nike/Image_228.jpg  \n",
            "  inflating: train/nike/Image_229.jpg  \n",
            "  inflating: train/nike/Image_23.jpg  \n",
            "  inflating: train/nike/Image_231.jpg  \n",
            "  inflating: train/nike/Image_232.jpg  \n",
            "  inflating: train/nike/Image_233.jpg  \n",
            "  inflating: train/nike/Image_234.jpg  \n",
            "  inflating: train/nike/Image_235.jpg  \n",
            "  inflating: train/nike/Image_236.jpg  \n",
            "  inflating: train/nike/Image_237.jpg  \n",
            "  inflating: train/nike/Image_238.jpg  \n",
            "  inflating: train/nike/Image_239.jpg  \n",
            "  inflating: train/nike/Image_24.JPG  \n",
            "  inflating: train/nike/Image_241.jpg  \n",
            "  inflating: train/nike/Image_242.jpg  \n",
            "  inflating: train/nike/Image_243.jpg  \n",
            "  inflating: train/nike/Image_244.jpg  \n",
            "  inflating: train/nike/Image_245.jpg  \n",
            "  inflating: train/nike/Image_246.jpg  \n",
            "  inflating: train/nike/Image_247.jpg  \n",
            "  inflating: train/nike/Image_248.jpg  \n",
            "  inflating: train/nike/Image_249.jpg  \n",
            "  inflating: train/nike/Image_25.jpg  \n",
            "  inflating: train/nike/Image_251.jpg  \n",
            "  inflating: train/nike/Image_252.JPG  \n",
            "  inflating: train/nike/Image_253.jpg  \n",
            "  inflating: train/nike/Image_254.jpg  \n",
            "  inflating: train/nike/Image_255.jpg  \n",
            "  inflating: train/nike/Image_26.jpg  \n",
            "  inflating: train/nike/Image_27.jpg  \n",
            "  inflating: train/nike/Image_28.jpg  \n",
            "  inflating: train/nike/Image_29.jpg  \n",
            "  inflating: train/nike/Image_3.jpg  \n",
            "  inflating: train/nike/Image_31.jpg  \n",
            "  inflating: train/nike/Image_32.jpg  \n",
            "  inflating: train/nike/Image_33.jpg  \n",
            "  inflating: train/nike/Image_34.jpg  \n",
            "  inflating: train/nike/Image_35.jpg  \n",
            "  inflating: train/nike/Image_36.jpg  \n",
            "  inflating: train/nike/Image_37.jpg  \n",
            "  inflating: train/nike/Image_38.jpg  \n",
            "  inflating: train/nike/Image_39.JPG  \n",
            "  inflating: train/nike/Image_4.jpg  \n",
            "  inflating: train/nike/Image_41.jpg  \n",
            "  inflating: train/nike/Image_42.jpg  \n",
            "  inflating: train/nike/Image_43.jpg  \n",
            "  inflating: train/nike/Image_44.jpg  \n",
            "  inflating: train/nike/Image_45.jpg  \n",
            "  inflating: train/nike/Image_46.jpg  \n",
            "  inflating: train/nike/Image_47.jpg  \n",
            "  inflating: train/nike/Image_48.jpg  \n",
            "  inflating: train/nike/Image_49.jpg  \n",
            "  inflating: train/nike/Image_5.jpg  \n",
            "  inflating: train/nike/Image_51.jpg  \n",
            "  inflating: train/nike/Image_52.jpg  \n",
            "  inflating: train/nike/Image_53.jpg  \n",
            "  inflating: train/nike/Image_54.jpg  \n",
            "  inflating: train/nike/Image_55.jpg  \n",
            "  inflating: train/nike/Image_56.jpg  \n",
            "  inflating: train/nike/Image_57.jpg  \n",
            "  inflating: train/nike/Image_58.jpg  \n",
            "  inflating: train/nike/Image_59.jpg  \n",
            "  inflating: train/nike/Image_6.jpg  \n",
            "  inflating: train/nike/Image_61.jpg  \n",
            "  inflating: train/nike/Image_62.jpg  \n",
            "  inflating: train/nike/Image_63.jpg  \n",
            "  inflating: train/nike/Image_64.JPG  \n",
            "  inflating: train/nike/Image_65.jpg  \n",
            "  inflating: train/nike/Image_66.jpg  \n",
            "  inflating: train/nike/Image_67.jpg  \n",
            "  inflating: train/nike/Image_68.jpg  \n",
            "  inflating: train/nike/Image_69.jpg  \n",
            "  inflating: train/nike/Image_7.JPG  \n",
            "  inflating: train/nike/Image_71.jpg  \n",
            "  inflating: train/nike/Image_72.jpg  \n",
            "  inflating: train/nike/Image_73.JPG  \n",
            "  inflating: train/nike/Image_74.jpg  \n",
            "  inflating: train/nike/Image_75.jpg  \n",
            "  inflating: train/nike/Image_76.jpg  \n",
            "  inflating: train/nike/Image_77.jpg  \n",
            "  inflating: train/nike/Image_78.JPG  \n",
            "  inflating: train/nike/Image_79.jpg  \n",
            "  inflating: train/nike/Image_8.JPG  \n",
            "  inflating: train/nike/Image_81.jpg  \n",
            "  inflating: train/nike/Image_82.jpg  \n",
            "  inflating: train/nike/Image_83.jpg  \n",
            "  inflating: train/nike/Image_84.jpg  \n",
            "  inflating: train/nike/Image_85.jpg  \n",
            "  inflating: train/nike/Image_86.jpg  \n",
            "  inflating: train/nike/Image_87.JPG  \n",
            "  inflating: train/nike/Image_88.jpg  \n",
            "  inflating: train/nike/Image_89.jpg  \n",
            "  inflating: train/nike/Image_9.jpg  \n",
            "  inflating: train/nike/Image_91.jpg  \n",
            "  inflating: train/nike/Image_92.jpg  \n",
            "  inflating: train/nike/Image_93.jpg  \n",
            "  inflating: train/nike/Image_94.jpg  \n",
            "  inflating: train/nike/Image_95.jpg  \n",
            "  inflating: train/nike/Image_96.jpg  \n",
            "  inflating: train/nike/Image_97.jpg  \n",
            "  inflating: train/nike/Image_98.jpg  \n",
            "  inflating: train/nike/Image_99.JPG  \n",
            "  inflating: validation/adidas/adidas_ (149).jpg  \n",
            "  inflating: validation/adidas/adidas_ (150).jpg  \n",
            "  inflating: validation/adidas/adidas_ (151).jpg  \n",
            "  inflating: validation/adidas/adidas_ (152).jpg  \n",
            "  inflating: validation/adidas/adidas_ (153).jpg  \n",
            "  inflating: validation/adidas/adidas_ (154).jpg  \n",
            "  inflating: validation/adidas/adidas_ (155).jpg  \n",
            "  inflating: validation/adidas/adidass_(11).jpg  \n",
            "  inflating: validation/adidas/adidass_(12).jpg  \n",
            "  inflating: validation/adidas/adidass_(13).jpg  \n",
            "  inflating: validation/adidas/adidass_(14).jpg  \n",
            "  inflating: validation/adidas/adidass_(15).jpg  \n",
            "  inflating: validation/adidas/adidass_(16).jpg  \n",
            "  inflating: validation/adidas/adidass_(17).jpg  \n",
            "  inflating: validation/adidas/adidass_(18).jpg  \n",
            "  inflating: validation/adidas/adidass_(19).jpg  \n",
            "  inflating: validation/adidas/adidass_(20).jpg  \n",
            "  inflating: validation/adidas/adidass_(21).jpg  \n",
            "  inflating: validation/adidas/adidass_(22).jpg  \n",
            "  inflating: validation/adidas/adidass_(23).jpg  \n",
            "  inflating: validation/adidas/adidass_(24).jpg  \n",
            "  inflating: validation/adidas/adidass_(25).jpg  \n",
            "  inflating: validation/adidas/adidass_(26).jpg  \n",
            "  inflating: validation/adidas/adidass_(27).jpg  \n",
            "  inflating: validation/adidas/adidass_(28).jpg  \n",
            "  inflating: validation/adidas/adidass_(29).jpg  \n",
            "  inflating: validation/adidas/adidass_(30).jpg  \n",
            "  inflating: validation/nike/Image_261.jpg  \n",
            "  inflating: validation/nike/Image_262.jpg  \n",
            "  inflating: validation/nike/Image_263.jpg  \n",
            "  inflating: validation/nike/Image_264.jpg  \n",
            "  inflating: validation/nike/Image_265.jpg  \n",
            "  inflating: validation/nike/Image_266.jpg  \n",
            "  inflating: validation/nike/Image_267.jpg  \n",
            "  inflating: validation/nike/Image_268.jpg  \n",
            "  inflating: validation/nike/Image_269.jpg  \n",
            "  inflating: validation/nike/Image_270.jpg  \n",
            "  inflating: validation/nike/Image_271.jpg  \n",
            "  inflating: validation/nike/Image_272.jpg  \n",
            "  inflating: validation/nike/Image_273.jpg  \n",
            "  inflating: validation/nike/Image_274.jpg  \n",
            "  inflating: validation/nike/Image_275.jpg  \n",
            "  inflating: validation/nike/Image_276.JPG  \n",
            "  inflating: validation/nike/Image_277.jpg  \n",
            "  inflating: validation/nike/Image_278.jpg  \n",
            "  inflating: validation/nike/Image_279.jpg  \n",
            "  inflating: validation/nike/Image_280.jpg  \n",
            "  inflating: validation/nike/Image_281.jpg  \n",
            "  inflating: validation/nike/Image_282.jpg  \n",
            "  inflating: validation/nike/Image_289.jpg  \n",
            "  inflating: validation/nike/Image_290.jpg  \n",
            "  inflating: validation/nike/Image_291.jpg  \n",
            "  inflating: validation/nike/Image_292.jpg  \n",
            "  inflating: validation/nike/Image_299.jpg  \n",
            "  inflating: validation/nike/Image_300.jpg  \n"
          ]
        }
      ]
    },
    {
      "cell_type": "code",
      "source": [
        "# Usual imports\n",
        "\n",
        "import numpy as np\n",
        "import pandas as pd\n",
        "import matplotlib.pyplot as plt\n",
        "import tensorflow as tf\n",
        "\n",
        "from tensorflow.keras.models import Model\n",
        "from tensorflow.keras.layers import Input, Dense, Flatten\n",
        "from tensorflow.keras.optimizers import SGD, Adam"
      ],
      "metadata": {
        "id": "Vn2Q6PlNFH_n"
      },
      "execution_count": null,
      "outputs": []
    },
    {
      "cell_type": "code",
      "source": [
        "# Imports for TL and Data Augmentation\n",
        "# Code adapted from TF2.0 course.\n",
        "\n",
        "from tensorflow.keras.applications.vgg16 import VGG16 as PreTrainedModel\n",
        "from tensorflow.keras.applications.vgg16 import preprocess_input\n",
        "#from tensorflow.keras.applications.inception_v3 import InceptionV3 as PreTrainedModel\n",
        "#from tensorflow.keras.applications.inception_v3 import preprocess_input\n",
        "from tensorflow.keras.preprocessing import image \n",
        "from tensorflow.keras.preprocessing.image import ImageDataGenerator"
      ],
      "metadata": {
        "id": "UF49iTgdGffT"
      },
      "execution_count": null,
      "outputs": []
    },
    {
      "cell_type": "markdown",
      "source": [
        "So we need all data to be saved under 1 folder. Within this folder are 2 folders containing the training and validation data and within the training and validation folders are folders for each class, in this case 2 folders in each, one nike folder and the other adidas.\n",
        "\n",
        "For the notebook in the course, we had to create the folders in the way we needed, for this dataset, we already have everything how we'd like (for training).\n",
        "\n",
        "Also decided to go with vgg model rather than the inception model as the inception model was too complex which made running it slow and hence hindered the whole pupose of this notebook which is to experiment and learn."
      ],
      "metadata": {
        "id": "u91EW-XfHpVP"
      }
    },
    {
      "cell_type": "code",
      "source": [
        "# Load image\n",
        "\n",
        "plt.imshow(image.load_img('/content/train/nike/Image_101.jpg'))"
      ],
      "metadata": {
        "colab": {
          "base_uri": "https://localhost:8080/",
          "height": 286
        },
        "id": "lZYwm8WIGkyP",
        "outputId": "c77a7165-d08d-4049-b549-7e9f74575c94"
      },
      "execution_count": null,
      "outputs": [
        {
          "output_type": "execute_result",
          "data": {
            "text/plain": [
              "<matplotlib.image.AxesImage at 0x7fa916c03a00>"
            ]
          },
          "metadata": {},
          "execution_count": 5
        },
        {
          "output_type": "display_data",
          "data": {
            "text/plain": [
              "<Figure size 432x288 with 1 Axes>"
            ],
            "image/png": "[encoded data removed]"
          },
          "metadata": {
            "needs_background": "light"
          }
        }
      ]
    },
    {
      "cell_type": "markdown",
      "source": [
        "Prestos, nice."
      ],
      "metadata": {
        "id": "Kggl_ygVKkdx"
      }
    },
    {
      "cell_type": "code",
      "source": [
        "# Convenient to define\n",
        "\n",
        "train_path = '/content/train'\n",
        "valid_path = '/content/validation'"
      ],
      "metadata": {
        "id": "qDR5chevL2VF"
      },
      "execution_count": null,
      "outputs": []
    },
    {
      "cell_type": "code",
      "source": [
        "from glob import glob\n",
        "\n",
        "# Convenient to define number of image files\n",
        "\n",
        "train_image_files = glob(train_path + '/*/*.jpg')\n",
        "\n",
        "# Glob code adapted from course\n",
        "# Glob adapting motivation: https://www.geeksforgeeks.org/how-to-use-glob-function-to-find-files-recursively-in-python/\n",
        "# Basically my simple understanding is that it's a pattern finder, this line of code is basically\n",
        "# finding the number of elements with such a string path /content/train/nike_or_adidas/Whatever_is_before_the_.jpg"
      ],
      "metadata": {
        "id": "PsPczyebKbM9"
      },
      "execution_count": null,
      "outputs": []
    },
    {
      "cell_type": "code",
      "source": [
        "#type(train_image_files)"
      ],
      "metadata": {
        "id": "FMc5Uu-GMEX8"
      },
      "execution_count": null,
      "outputs": []
    },
    {
      "cell_type": "code",
      "source": [
        "#len(train_image_files)"
      ],
      "metadata": {
        "id": "_AlY2_u_MG4c"
      },
      "execution_count": null,
      "outputs": []
    },
    {
      "cell_type": "code",
      "source": [
        "# Convenient to define number of image files\n",
        "\n",
        "valid_image_files = glob(valid_path + '/*/*.jpg')"
      ],
      "metadata": {
        "id": "MZcqwy5xMIV6"
      },
      "execution_count": null,
      "outputs": []
    },
    {
      "cell_type": "code",
      "source": [
        "#type(valid_image_files)"
      ],
      "metadata": {
        "id": "gmzs1GlHNBTp"
      },
      "execution_count": null,
      "outputs": []
    },
    {
      "cell_type": "code",
      "source": [
        "#len(valid_image_files)"
      ],
      "metadata": {
        "id": "uMTFomKRNDIS"
      },
      "execution_count": null,
      "outputs": []
    },
    {
      "cell_type": "code",
      "source": [
        "#valid_image_files"
      ],
      "metadata": {
        "id": "LNf7NMyT8uMk"
      },
      "execution_count": null,
      "outputs": []
    },
    {
      "cell_type": "code",
      "source": [
        "# Convenient to define number of classes\n",
        "\n",
        "folders = glob(train_path + '/*')"
      ],
      "metadata": {
        "id": "2cW2qvgPNE4W"
      },
      "execution_count": null,
      "outputs": []
    },
    {
      "cell_type": "code",
      "source": [
        "#len(folders)"
      ],
      "metadata": {
        "id": "tjocs9xsOMC8"
      },
      "execution_count": null,
      "outputs": []
    },
    {
      "cell_type": "code",
      "source": [
        "#folders"
      ],
      "metadata": {
        "id": "p6HUV9DA8yI6"
      },
      "execution_count": null,
      "outputs": []
    },
    {
      "cell_type": "code",
      "source": [
        "# Convenient to define desired image size\n",
        "# as the functions we'll use will convert the input iage\n",
        "# into our desired image size\n",
        "\n",
        "Image_size = [200, 200]"
      ],
      "metadata": {
        "id": "zPMKGZv_OM3t"
      },
      "execution_count": null,
      "outputs": []
    },
    {
      "cell_type": "code",
      "source": [
        "#type(Image_size)"
      ],
      "metadata": {
        "id": "YqcCQFBYOeyU"
      },
      "execution_count": null,
      "outputs": []
    },
    {
      "cell_type": "code",
      "source": [
        "# instantiate pre-trained model\n",
        "\n",
        "ptm = PreTrainedModel(\n",
        "    input_shape = Image_size + [3], # images have color so +3 to account for color\n",
        "    weights = 'imagenet',\n",
        "    include_top = False # Create our own top\n",
        ")"
      ],
      "metadata": {
        "id": "rJwna4S7OtBz",
        "colab": {
          "base_uri": "https://localhost:8080/"
        },
        "outputId": "9bf484dc-32f5-4022-c83c-5189c1aee754"
      },
      "execution_count": null,
      "outputs": [
        {
          "output_type": "stream",
          "name": "stdout",
          "text": [
            "Downloading data from https://storage.googleapis.com/tensorflow/keras-applications/vgg16/vgg16_weights_tf_dim_ordering_tf_kernels_notop.h5\n",
            "58889256/58889256 [==============================] - 1s 0us/step\n"
          ]
        }
      ]
    },
    {
      "cell_type": "code",
      "source": [
        "# Freeze pre-trained model weights\n",
        "\n",
        "ptm.trainable = False"
      ],
      "metadata": {
        "id": "hmWBFuV2RnUB"
      },
      "execution_count": null,
      "outputs": []
    },
    {
      "cell_type": "code",
      "source": [
        "#ptm.summary()"
      ],
      "metadata": {
        "id": "dwUDNpmXSdFk"
      },
      "execution_count": null,
      "outputs": []
    },
    {
      "cell_type": "code",
      "source": [
        "K = len(folders)\n",
        "\n",
        "x = Flatten() (ptm.output) # Input to dense layer in (N,D) so we flatten ptm output so we can pass into dense layer\n",
        "x = Dense(K, activation = 'softmax') (x) \n",
        "model = Model(inputs=ptm.input, outputs = x)\n",
        "# # Keras image data generator returns classes one-hot encoded\n",
        "# hence softmax not sigmoid even thought binary classifcation problem.\n",
        "# Essentially out target is an N x K target matrix rather than full of 0's and 1's"
      ],
      "metadata": {
        "id": "UMZckmiETeuT"
      },
      "execution_count": null,
      "outputs": []
    },
    {
      "cell_type": "code",
      "source": [
        "model.compile(\n",
        "    loss = 'categorical_crossentropy',\n",
        "    optimizer = 'adam',\n",
        "    metrics = ['accuracy']\n",
        ")"
      ],
      "metadata": {
        "id": "gHAst5XzXIAc"
      },
      "execution_count": null,
      "outputs": []
    },
    {
      "cell_type": "code",
      "source": [
        "model.summary()"
      ],
      "metadata": {
        "id": "cbqPyvNjThKs",
        "colab": {
          "base_uri": "https://localhost:8080/"
        },
        "outputId": "e1bc3e32-82c8-4023-e8b5-cd7269510591"
      },
      "execution_count": null,
      "outputs": [
        {
          "output_type": "stream",
          "name": "stdout",
          "text": [
            "Model: \"model\"\n",
            "_________________________________________________________________\n",
            " Layer (type)                Output Shape              Param #   \n",
            "=================================================================\n",
            " input_1 (InputLayer)        [(None, 200, 200, 3)]     0         \n",
            "                                                                 \n",
            " block1_conv1 (Conv2D)       (None, 200, 200, 64)      1792      \n",
            "                                                                 \n",
            " block1_conv2 (Conv2D)       (None, 200, 200, 64)      36928     \n",
            "                                                                 \n",
            " block1_pool (MaxPooling2D)  (None, 100, 100, 64)      0         \n",
            "                                                                 \n",
            " block2_conv1 (Conv2D)       (None, 100, 100, 128)     73856     \n",
            "                                                                 \n",
            " block2_conv2 (Conv2D)       (None, 100, 100, 128)     147584    \n",
            "                                                                 \n",
            " block2_pool (MaxPooling2D)  (None, 50, 50, 128)       0         \n",
            "                                                                 \n",
            " block3_conv1 (Conv2D)       (None, 50, 50, 256)       295168    \n",
            "                                                                 \n",
            " block3_conv2 (Conv2D)       (None, 50, 50, 256)       590080    \n",
            "                                                                 \n",
            " block3_conv3 (Conv2D)       (None, 50, 50, 256)       590080    \n",
            "                                                                 \n",
            " block3_pool (MaxPooling2D)  (None, 25, 25, 256)       0         \n",
            "                                                                 \n",
            " block4_conv1 (Conv2D)       (None, 25, 25, 512)       1180160   \n",
            "                                                                 \n",
            " block4_conv2 (Conv2D)       (None, 25, 25, 512)       2359808   \n",
            "                                                                 \n",
            " block4_conv3 (Conv2D)       (None, 25, 25, 512)       2359808   \n",
            "                                                                 \n",
            " block4_pool (MaxPooling2D)  (None, 12, 12, 512)       0         \n",
            "                                                                 \n",
            " block5_conv1 (Conv2D)       (None, 12, 12, 512)       2359808   \n",
            "                                                                 \n",
            " block5_conv2 (Conv2D)       (None, 12, 12, 512)       2359808   \n",
            "                                                                 \n",
            " block5_conv3 (Conv2D)       (None, 12, 12, 512)       2359808   \n",
            "                                                                 \n",
            " block5_pool (MaxPooling2D)  (None, 6, 6, 512)         0         \n",
            "                                                                 \n",
            " flatten (Flatten)           (None, 18432)             0         \n",
            "                                                                 \n",
            " dense (Dense)               (None, 2)                 36866     \n",
            "                                                                 \n",
            "=================================================================\n",
            "Total params: 14,751,554\n",
            "Trainable params: 36,866\n",
            "Non-trainable params: 14,714,688\n",
            "_________________________________________________________________\n"
          ]
        }
      ]
    },
    {
      "cell_type": "code",
      "source": [
        "# Specify Augmentations\n",
        "\n",
        "train_gen = ImageDataGenerator(\n",
        "    width_shift_range = 0.1,\n",
        "    height_shift_range = 0.1,\n",
        "    zoom_range = 0.2,\n",
        "    horizontal_flip = True,\n",
        "    preprocessing_function = preprocess_input\n",
        ")\n",
        "\n",
        "valid_gen = ImageDataGenerator(\n",
        "    preprocessing_function = preprocess_input\n",
        ")"
      ],
      "metadata": {
        "id": "hfCnPRFqUbAb"
      },
      "execution_count": null,
      "outputs": []
    },
    {
      "cell_type": "code",
      "source": [
        "# create generators, i.e. objects which will generate the augmented images when called\n",
        "\n",
        "batch_size=20\n",
        "\n",
        "train_generator = train_gen.flow_from_directory(\n",
        "  train_path,\n",
        "  shuffle=True,\n",
        "  target_size=Image_size,\n",
        "  batch_size=batch_size,\n",
        "  #color_mode = 'rgba'\n",
        ")\n",
        "valid_generator = valid_gen.flow_from_directory(\n",
        "  valid_path,\n",
        "  target_size=Image_size,\n",
        "  batch_size=batch_size,\n",
        " # color_mode = 'rgba'\n",
        ")"
      ],
      "metadata": {
        "colab": {
          "base_uri": "https://localhost:8080/"
        },
        "id": "UnO485s6V9zF",
        "outputId": "2d0969a6-c3d5-46c0-bd9c-35d8e55dd1a9"
      },
      "execution_count": null,
      "outputs": [
        {
          "output_type": "stream",
          "name": "stdout",
          "text": [
            "Found 460 images belonging to 2 classes.\n",
            "Found 55 images belonging to 2 classes.\n"
          ]
        }
      ]
    },
    {
      "cell_type": "code",
      "source": [
        "r = model.fit_generator(\n",
        "    train_generator,\n",
        "    validation_data = valid_generator,\n",
        "    epochs = 2,\n",
        "    steps_per_epoch = int(np.ceil(len(train_image_files)/batch_size)),\n",
        "    validation_steps = int(np.ceil(len(valid_image_files)/batch_size))\n",
        ")"
      ],
      "metadata": {
        "colab": {
          "base_uri": "https://localhost:8080/"
        },
        "id": "YNC1lGe1XASu",
        "outputId": "60174df1-2476-46fb-c0be-5eb6507f5091"
      },
      "execution_count": null,
      "outputs": [
        {
          "output_type": "stream",
          "name": "stderr",
          "text": [
            "<ipython-input-27-1d4b850de4d4>:1: UserWarning: `Model.fit_generator` is deprecated and will be removed in a future version. Please use `Model.fit`, which supports generators.\n",
            "  r = model.fit_generator(\n"
          ]
        },
        {
          "output_type": "stream",
          "name": "stdout",
          "text": [
            "Epoch 1/2\n",
            "14/22 [==================>...........] - ETA: 1:21 - loss: 7.5665 - accuracy: 0.6393"
          ]
        },
        {
          "output_type": "stream",
          "name": "stderr",
          "text": [
            "/usr/local/lib/python3.8/dist-packages/PIL/Image.py:959: UserWarning: Palette images with Transparency expressed in bytes should be converted to RGBA images\n",
            "  warnings.warn(\n"
          ]
        },
        {
          "output_type": "stream",
          "name": "stdout",
          "text": [
            "22/22 [==============================] - 263s 12s/step - loss: 6.8054 - accuracy: 0.6727 - val_loss: 6.3498 - val_accuracy: 0.7273\n",
            "Epoch 2/2\n",
            "22/22 [==============================] - 254s 12s/step - loss: 4.4487 - accuracy: 0.7864 - val_loss: 9.7342 - val_accuracy: 0.8182\n"
          ]
        }
      ]
    },
    {
      "cell_type": "code",
      "source": [
        "# plot loss\n",
        "plt.plot(r.history['loss'], label='train loss')\n",
        "plt.plot(r.history['val_loss'], label='val loss')\n",
        "plt.legend()\n",
        "plt.show()"
      ],
      "metadata": {
        "id": "0ZJs4ujjX1-F",
        "colab": {
          "base_uri": "https://localhost:8080/",
          "height": 265
        },
        "outputId": "38f7834e-b79a-410d-dc9b-df56c8f13db8"
      },
      "execution_count": null,
      "outputs": [
        {
          "output_type": "display_data",
          "data": {
            "text/plain": [
              "<Figure size 432x288 with 1 Axes>"
            ],
            "image/png": "[encoded data removed]"
          },
          "metadata": {
            "needs_background": "light"
          }
        }
      ]
    },
    {
      "cell_type": "code",
      "source": [
        "# plot accuracy\n",
        "\n",
        "plt.plot(r.history['accuracy'], label='train acc')\n",
        "plt.plot(r.history['val_accuracy'], label='val acc')\n",
        "plt.legend()\n",
        "plt.show()"
      ],
      "metadata": {
        "id": "JoCgnqxu-gCo",
        "colab": {
          "base_uri": "https://localhost:8080/",
          "height": 265
        },
        "outputId": "963762c9-9554-4345-e47e-ca1f37db0326"
      },
      "execution_count": null,
      "outputs": [
        {
          "output_type": "display_data",
          "data": {
            "text/plain": [
              "<Figure size 432x288 with 1 Axes>"
            ],
            "image/png": "[encoded data removed]"
          },
          "metadata": {
            "needs_background": "light"
          }
        }
      ]
    },
    {
      "cell_type": "markdown",
      "source": [
        "So we know targets are one-hot encoded. I want to identify how they're indexed. \n",
        "\n",
        "Found out from documentation: https://www.tensorflow.org/api_docs/python/tf/keras/preprocessing/image/ImageDataGenerator#flow_from_directory \n",
        "\n",
        "So from my understanding, if the 'classes' argument is not specified in the flow_from_directory function, the classes are inferred from the structure of the subdirectories where each subdirectory is treated as a class. I.e. the subdirectories of the train directory are ordered adidas and nike, so adidas takes the first index and nike takes the second. Also, the same order applies to the valid and test directories."
      ],
      "metadata": {
        "id": "N_ZKpKNG-kzT"
      }
    },
    {
      "cell_type": "code",
      "source": [
        "train_generator.class_indices"
      ],
      "metadata": {
        "colab": {
          "base_uri": "https://localhost:8080/"
        },
        "id": "bfhmUF4qBfPK",
        "outputId": "a50cd597-e62d-41d9-fcbf-3a5813b40ce3"
      },
      "execution_count": null,
      "outputs": [
        {
          "output_type": "execute_result",
          "data": {
            "text/plain": [
              "{'adidas': 0, 'nike': 1}"
            ]
          },
          "metadata": {},
          "execution_count": 30
        }
      ]
    },
    {
      "cell_type": "code",
      "source": [
        "valid_generator.class_indices"
      ],
      "metadata": {
        "colab": {
          "base_uri": "https://localhost:8080/"
        },
        "id": "Huhwd6GpBsz_",
        "outputId": "a099fbcd-bf9e-465b-bdad-5e8a94d79ae6"
      },
      "execution_count": null,
      "outputs": [
        {
          "output_type": "execute_result",
          "data": {
            "text/plain": [
              "{'adidas': 0, 'nike': 1}"
            ]
          },
          "metadata": {},
          "execution_count": 31
        }
      ]
    },
    {
      "cell_type": "markdown",
      "source": [
        "# Evaluation"
      ],
      "metadata": {
        "id": "xtp7lmDsF54v"
      }
    },
    {
      "cell_type": "code",
      "source": [
        "eval_path = '/content/test'\n",
        "\n",
        "eval_image_files = glob(eval_path + '/*/*.jpg') + glob(eval_path + '/*/*.JPG')\n",
        "print(len(eval_image_files))\n",
        "\n",
        "eval_gen = ImageDataGenerator(\n",
        "    preprocessing_function = preprocess_input\n",
        ")\n",
        "\n",
        "eval_generator = eval_gen.flow_from_directory(\n",
        "  eval_path,\n",
        "  target_size=Image_size,\n",
        "  batch_size=1,\n",
        " # color_mode = 'rgba'\n",
        ")"
      ],
      "metadata": {
        "colab": {
          "base_uri": "https://localhost:8080/"
        },
        "id": "oRF_peg0GCL6",
        "outputId": "e545feae-e1a9-424b-adfe-4a6cd357e895"
      },
      "execution_count": null,
      "outputs": [
        {
          "output_type": "stream",
          "name": "stdout",
          "text": [
            "60\n",
            "Found 60 images belonging to 2 classes.\n"
          ]
        }
      ]
    },
    {
      "cell_type": "code",
      "source": [
        "model.evaluate_generator(eval_generator, \n",
        "                        steps = int(np.ceil(len(eval_image_files)))\n",
        "                        )"
      ],
      "metadata": {
        "colab": {
          "base_uri": "https://localhost:8080/"
        },
        "id": "6UvW-0DYDEpW",
        "outputId": "0d5f73a7-34a0-4cc1-eef7-b0585d95214a"
      },
      "execution_count": null,
      "outputs": [
        {
          "output_type": "stream",
          "name": "stderr",
          "text": [
            "<ipython-input-35-6bf07a38f099>:1: UserWarning: `Model.evaluate_generator` is deprecated and will be removed in a future version. Please use `Model.evaluate`, which supports generators.\n",
            "  model.evaluate_generator(eval_generator,\n"
          ]
        },
        {
          "output_type": "execute_result",
          "data": {
            "text/plain": [
              "[5.929275035858154, 0.7333333492279053]"
            ]
          },
          "metadata": {},
          "execution_count": 35
        }
      ]
    },
    {
      "cell_type": "markdown",
      "source": [
        "73% accurate.... not the best, but overall happy with what I've learnt and observed through experimentation."
      ],
      "metadata": {
        "id": "O6DyGNZA91VE"
      }
    }
  ]
}